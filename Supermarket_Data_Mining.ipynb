{
 "cells": [
  {
   "cell_type": "markdown",
   "metadata": {},
   "source": [
    "# Goal of the project"
   ]
  },
  {
   "cell_type": "markdown",
   "metadata": {},
   "source": [
    "The goal of this notebook is to scrape the location of supermarkets in the UK. This will be used in the future to build a dashboard of the food supply chain in the UK."
   ]
  },
  {
   "cell_type": "markdown",
   "metadata": {},
   "source": [
    "# Part 1: Scraping the links of all the cities by letters"
   ]
  },
  {
   "cell_type": "markdown",
   "metadata": {},
   "source": [
    "### Useful Links"
   ]
  },
  {
   "cell_type": "markdown",
   "metadata": {},
   "source": [
    "GitHub repository:\n",
    "    \n",
    "https://github.com/tlemenestrel/Mining_Food_Supply_Chain_Data\n",
    "\n",
    "Link to the scraped website:\n",
    "\n",
    "https://openhours.co.uk"
   ]
  },
  {
   "cell_type": "markdown",
   "metadata": {},
   "source": [
    "### Importing the necessary modules"
   ]
  },
  {
   "cell_type": "code",
   "execution_count": 175,
   "metadata": {},
   "outputs": [],
   "source": [
    "import pandas as pd\n",
    "from urllib.request import urlopen\n",
    "import requests\n",
    "from bs4 import BeautifulSoup"
   ]
  },
  {
   "cell_type": "markdown",
   "metadata": {},
   "source": [
    "### Links to the website"
   ]
  },
  {
   "cell_type": "code",
   "execution_count": 176,
   "metadata": {},
   "outputs": [],
   "source": [
    "website_letters_link = \"https://openhours.co.uk/categories/supermarket-583/choose_location?all_locations=true&on=\"\n",
    "website_cities_link  = \"https://openhours.co.uk\""
   ]
  },
  {
   "cell_type": "markdown",
   "metadata": {},
   "source": [
    "### List of all the letters for the pages to scrape"
   ]
  },
  {
   "cell_type": "code",
   "execution_count": 177,
   "metadata": {},
   "outputs": [],
   "source": [
    "list_letters = [\"A\",\"B\",\"C\",\"D\",\"E\",\"F\",\"G\",\"H\",\"I\",\"J\",\"K\",\"L\",\"M\",\"N\",\"O\",\"P\",\"Q\",\"R\",\"S\",\"T\",\"U\",\"V\",\"W\",\"Y\",\"Z\"]"
   ]
  },
  {
   "cell_type": "markdown",
   "metadata": {},
   "source": [
    "### List to append afterwards with the name of the cities and their respective links"
   ]
  },
  {
   "cell_type": "code",
   "execution_count": 178,
   "metadata": {},
   "outputs": [],
   "source": [
    "cities = []\n",
    "cities_links = []"
   ]
  },
  {
   "cell_type": "markdown",
   "metadata": {},
   "source": [
    "### Scraping the cities and their links"
   ]
  },
  {
   "cell_type": "code",
   "execution_count": 179,
   "metadata": {},
   "outputs": [],
   "source": [
    "for letter in list_letters:\n",
    "    \n",
    "    # Requesting the page using the url plus the associated letter\n",
    "    \n",
    "    page = requests.get(website_city_link + letter)\n",
    "    \n",
    "    # Turning the page into a soup for future scraping\n",
    "    \n",
    "    soup = BeautifulSoup(page.content, 'html5lib')\n",
    "        \n",
    "    # Finding the name of the city and its link\n",
    "    \n",
    "    for j in soup.find_all('li'):\n",
    "                \n",
    "        a = j.find ('a')\n",
    "        \n",
    "        # Appending the list of cities and their respective links\n",
    "\n",
    "        cities_links.append(website_cities_link + a.attrs['href'])\n",
    "        cities.append(a.contents)"
   ]
  },
  {
   "cell_type": "markdown",
   "metadata": {},
   "source": [
    "### Converting the lists of scraped data into a pandas dataframe"
   ]
  },
  {
   "cell_type": "code",
   "execution_count": 180,
   "metadata": {},
   "outputs": [],
   "source": [
    "cities_df = pd.DataFrame({\n",
    "    \n",
    "    \"cities_links\": cities_links,\n",
    "    \"cities\"      : cities\n",
    "    \n",
    "})"
   ]
  },
  {
   "cell_type": "markdown",
   "metadata": {},
   "source": [
    "### Printing the entire dataframe to check if the scraped data is accurate"
   ]
  },
  {
   "cell_type": "code",
   "execution_count": 181,
   "metadata": {},
   "outputs": [
    {
     "name": "stdout",
     "output_type": "stream",
     "text": [
      "                                        cities_links               cities\n",
      "0                 https://openhours.co.uk/categories       [[Categories]]\n",
      "1  https://openhours.co.uk/categories/supermarket...      [[Supermarket]]\n",
      "2  https://openhours.co.uk/categories/supermarket...  [[Choose location]]\n",
      "3  https://openhours.co.uk/categories/supermarket...                  [A]\n",
      "4  https://openhours.co.uk/categories/supermarket...                  [B]\n"
     ]
    }
   ],
   "source": [
    "print (cities_df.head())"
   ]
  },
  {
   "cell_type": "markdown",
   "metadata": {},
   "source": [
    "### Filtering the dataframe to only keep the links of the cities"
   ]
  },
  {
   "cell_type": "code",
   "execution_count": 182,
   "metadata": {},
   "outputs": [],
   "source": [
    "cities_df = cities_df[cities_df['cities_links'].str.contains('/spots')]"
   ]
  },
  {
   "cell_type": "markdown",
   "metadata": {},
   "source": [
    "### Verifying that the dataframe only contains the links of the cities"
   ]
  },
  {
   "cell_type": "code",
   "execution_count": 183,
   "metadata": {},
   "outputs": [
    {
     "name": "stdout",
     "output_type": "stream",
     "text": [
      "                                         cities_links            cities\n",
      "28  https://openhours.co.uk/spots?city=Abbey+Road&...      [Abbey Road]\n",
      "29  https://openhours.co.uk/spots?city=Abbey+Wood&...      [Abbey Wood]\n",
      "30  https://openhours.co.uk/spots?city=Abbots+Lang...  [Abbots Langley]\n",
      "31  https://openhours.co.uk/spots?city=Aberdare&la...        [Aberdare]\n",
      "32  https://openhours.co.uk/spots?city=Aberdeen&la...        [Aberdeen]\n"
     ]
    }
   ],
   "source": [
    "print (cities_df.head())"
   ]
  },
  {
   "cell_type": "markdown",
   "metadata": {},
   "source": [
    "### Printing out the type of each column of the dataframe"
   ]
  },
  {
   "cell_type": "code",
   "execution_count": 184,
   "metadata": {},
   "outputs": [],
   "source": [
    "def print_data_type_of_all_columns_of_a_dataframe(df):\n",
    "\n",
    "    dataTypeSeries = df.dtypes\n",
    "    print('Data type of each column of Dataframe :')\n",
    "    print(dataTypeSeries)"
   ]
  },
  {
   "cell_type": "code",
   "execution_count": 185,
   "metadata": {},
   "outputs": [
    {
     "name": "stdout",
     "output_type": "stream",
     "text": [
      "Data type of each column of Dataframe :\n",
      "cities_links    object\n",
      "cities          object\n",
      "dtype: object\n"
     ]
    }
   ],
   "source": [
    "print_data_type_of_all_columns_of_a_dataframe(cities_df)"
   ]
  },
  {
   "cell_type": "markdown",
   "metadata": {},
   "source": [
    "### Removing the brackets in the cities column"
   ]
  },
  {
   "cell_type": "code",
   "execution_count": 186,
   "metadata": {},
   "outputs": [],
   "source": [
    "cities_df['cities'] = cities_df['cities'].str.get(0)"
   ]
  },
  {
   "cell_type": "markdown",
   "metadata": {},
   "source": [
    "### Verifying that the column has been properly changed"
   ]
  },
  {
   "cell_type": "code",
   "execution_count": 187,
   "metadata": {},
   "outputs": [
    {
     "name": "stdout",
     "output_type": "stream",
     "text": [
      "                                         cities_links          cities\n",
      "28  https://openhours.co.uk/spots?city=Abbey+Road&...      Abbey Road\n",
      "29  https://openhours.co.uk/spots?city=Abbey+Wood&...      Abbey Wood\n",
      "30  https://openhours.co.uk/spots?city=Abbots+Lang...  Abbots Langley\n",
      "31  https://openhours.co.uk/spots?city=Aberdare&la...        Aberdare\n",
      "32  https://openhours.co.uk/spots?city=Aberdeen&la...        Aberdeen\n"
     ]
    }
   ],
   "source": [
    "print (cities_df.head())"
   ]
  },
  {
   "cell_type": "markdown",
   "metadata": {},
   "source": [
    "### Exporting the dataframe to a csv file"
   ]
  },
  {
   "cell_type": "code",
   "execution_count": 188,
   "metadata": {},
   "outputs": [],
   "source": [
    "cities_df.to_csv('cities.csv', index=False) "
   ]
  }
 ],
 "metadata": {
  "kernelspec": {
   "display_name": "Python 3",
   "language": "python",
   "name": "python3"
  },
  "language_info": {
   "codemirror_mode": {
    "name": "ipython",
    "version": 3
   },
   "file_extension": ".py",
   "mimetype": "text/x-python",
   "name": "python",
   "nbconvert_exporter": "python",
   "pygments_lexer": "ipython3",
   "version": "3.7.1"
  }
 },
 "nbformat": 4,
 "nbformat_minor": 2
}
